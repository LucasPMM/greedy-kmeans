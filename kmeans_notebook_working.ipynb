{
 "cells": [
  {
   "cell_type": "code",
   "execution_count": 1,
   "id": "dbee2dd2",
   "metadata": {},
   "outputs": [],
   "source": [
    "# Minkowski distance:\n",
    "\n",
    "from math import *\n",
    "import numpy as np\n",
    "\n",
    "\n",
    "def p_root(value, root):\n",
    "    root = 1 / float(root)\n",
    "    return round ((value) ** (root), 3)\n",
    "\n",
    "def minkowski_distance(x, y, p):\n",
    "    return (p_root(sum(pow(abs(a-b), p) for a, b in zip(x, y)), p))\n",
    "\n",
    "\n",
    "# vector1 = [0, 2, 3, 4]\n",
    "# vector2 = [2, 4, 3, 7]\n",
    "p = 1\n",
    "\n",
    "# print(minkowski_distance(vector1, vector2, p))"
   ]
  },
  {
   "cell_type": "code",
   "execution_count": 2,
   "id": "8a355782",
   "metadata": {},
   "outputs": [
    {
     "name": "stdout",
     "output_type": "stream",
     "text": [
      "3\n"
     ]
    },
    {
     "data": {
      "text/html": [
       "<div>\n",
       "<style scoped>\n",
       "    .dataframe tbody tr th:only-of-type {\n",
       "        vertical-align: middle;\n",
       "    }\n",
       "\n",
       "    .dataframe tbody tr th {\n",
       "        vertical-align: top;\n",
       "    }\n",
       "\n",
       "    .dataframe thead th {\n",
       "        text-align: right;\n",
       "    }\n",
       "</style>\n",
       "<table border=\"1\" class=\"dataframe\">\n",
       "  <thead>\n",
       "    <tr style=\"text-align: right;\">\n",
       "      <th></th>\n",
       "      <th>sepal_length_in_cm</th>\n",
       "      <th>sepal_width_in_cm</th>\n",
       "      <th>petal_length_in_cm</th>\n",
       "      <th>petal_width_in_cm</th>\n",
       "      <th>class</th>\n",
       "    </tr>\n",
       "  </thead>\n",
       "  <tbody>\n",
       "    <tr>\n",
       "      <th>0</th>\n",
       "      <td>5.1</td>\n",
       "      <td>3.5</td>\n",
       "      <td>1.4</td>\n",
       "      <td>0.2</td>\n",
       "      <td>Iris-setosa</td>\n",
       "    </tr>\n",
       "    <tr>\n",
       "      <th>1</th>\n",
       "      <td>4.9</td>\n",
       "      <td>3.0</td>\n",
       "      <td>1.4</td>\n",
       "      <td>0.2</td>\n",
       "      <td>Iris-setosa</td>\n",
       "    </tr>\n",
       "    <tr>\n",
       "      <th>2</th>\n",
       "      <td>4.7</td>\n",
       "      <td>3.2</td>\n",
       "      <td>1.3</td>\n",
       "      <td>0.2</td>\n",
       "      <td>Iris-setosa</td>\n",
       "    </tr>\n",
       "    <tr>\n",
       "      <th>3</th>\n",
       "      <td>4.6</td>\n",
       "      <td>3.1</td>\n",
       "      <td>1.5</td>\n",
       "      <td>0.2</td>\n",
       "      <td>Iris-setosa</td>\n",
       "    </tr>\n",
       "    <tr>\n",
       "      <th>4</th>\n",
       "      <td>5.0</td>\n",
       "      <td>3.6</td>\n",
       "      <td>1.4</td>\n",
       "      <td>0.2</td>\n",
       "      <td>Iris-setosa</td>\n",
       "    </tr>\n",
       "  </tbody>\n",
       "</table>\n",
       "</div>"
      ],
      "text/plain": [
       "   sepal_length_in_cm  sepal_width_in_cm  petal_length_in_cm  \\\n",
       "0                 5.1                3.5                 1.4   \n",
       "1                 4.9                3.0                 1.4   \n",
       "2                 4.7                3.2                 1.3   \n",
       "3                 4.6                3.1                 1.5   \n",
       "4                 5.0                3.6                 1.4   \n",
       "\n",
       "   petal_width_in_cm        class  \n",
       "0                0.2  Iris-setosa  \n",
       "1                0.2  Iris-setosa  \n",
       "2                0.2  Iris-setosa  \n",
       "3                0.2  Iris-setosa  \n",
       "4                0.2  Iris-setosa  "
      ]
     },
     "execution_count": 2,
     "metadata": {},
     "output_type": "execute_result"
    }
   ],
   "source": [
    "# Load data and define K:\n",
    "\n",
    "import pandas as pd\n",
    "from scipy.stats import zscore\n",
    "from collections import Counter\n",
    "\n",
    "df = pd.read_csv(\"datasets/1.data\")\n",
    "df = df.fillna(0)\n",
    "\n",
    "number_of_columns = len(df.columns)\n",
    "list_of_classes = df['class'].to_list()\n",
    "# Number of unique classes:\n",
    "K = len(Counter(list_of_classes).keys())\n",
    "\n",
    "print(K)\n",
    "df.head()"
   ]
  },
  {
   "cell_type": "code",
   "execution_count": 3,
   "id": "960e453c",
   "metadata": {},
   "outputs": [
    {
     "data": {
      "text/html": [
       "<div>\n",
       "<style scoped>\n",
       "    .dataframe tbody tr th:only-of-type {\n",
       "        vertical-align: middle;\n",
       "    }\n",
       "\n",
       "    .dataframe tbody tr th {\n",
       "        vertical-align: top;\n",
       "    }\n",
       "\n",
       "    .dataframe thead th {\n",
       "        text-align: right;\n",
       "    }\n",
       "</style>\n",
       "<table border=\"1\" class=\"dataframe\">\n",
       "  <thead>\n",
       "    <tr style=\"text-align: right;\">\n",
       "      <th></th>\n",
       "      <th>sepal_length_in_cm</th>\n",
       "      <th>sepal_width_in_cm</th>\n",
       "      <th>petal_length_in_cm</th>\n",
       "      <th>petal_width_in_cm</th>\n",
       "    </tr>\n",
       "  </thead>\n",
       "  <tbody>\n",
       "    <tr>\n",
       "      <th>0</th>\n",
       "      <td>5.1</td>\n",
       "      <td>3.5</td>\n",
       "      <td>1.4</td>\n",
       "      <td>0.2</td>\n",
       "    </tr>\n",
       "    <tr>\n",
       "      <th>1</th>\n",
       "      <td>4.9</td>\n",
       "      <td>3.0</td>\n",
       "      <td>1.4</td>\n",
       "      <td>0.2</td>\n",
       "    </tr>\n",
       "    <tr>\n",
       "      <th>2</th>\n",
       "      <td>4.7</td>\n",
       "      <td>3.2</td>\n",
       "      <td>1.3</td>\n",
       "      <td>0.2</td>\n",
       "    </tr>\n",
       "    <tr>\n",
       "      <th>3</th>\n",
       "      <td>4.6</td>\n",
       "      <td>3.1</td>\n",
       "      <td>1.5</td>\n",
       "      <td>0.2</td>\n",
       "    </tr>\n",
       "    <tr>\n",
       "      <th>4</th>\n",
       "      <td>5.0</td>\n",
       "      <td>3.6</td>\n",
       "      <td>1.4</td>\n",
       "      <td>0.2</td>\n",
       "    </tr>\n",
       "  </tbody>\n",
       "</table>\n",
       "</div>"
      ],
      "text/plain": [
       "   sepal_length_in_cm  sepal_width_in_cm  petal_length_in_cm  \\\n",
       "0                 5.1                3.5                 1.4   \n",
       "1                 4.9                3.0                 1.4   \n",
       "2                 4.7                3.2                 1.3   \n",
       "3                 4.6                3.1                 1.5   \n",
       "4                 5.0                3.6                 1.4   \n",
       "\n",
       "   petal_width_in_cm  \n",
       "0                0.2  \n",
       "1                0.2  \n",
       "2                0.2  \n",
       "3                0.2  \n",
       "4                0.2  "
      ]
     },
     "execution_count": 3,
     "metadata": {},
     "output_type": "execute_result"
    }
   ],
   "source": [
    "# Remove class from dataframe\n",
    "\n",
    "data = df.drop(\"class\", axis=1)\n",
    "data.head()"
   ]
  },
  {
   "cell_type": "code",
   "execution_count": 4,
   "id": "48d822c0",
   "metadata": {
    "scrolled": false
   },
   "outputs": [],
   "source": [
    "n_samples, n_features = data.shape\n",
    "\n",
    "def matrix_of_distances(p = 1):\n",
    "    distances = []\n",
    "    for index, row in data.iterrows():\n",
    "        sample = row.values.tolist()\n",
    "\n",
    "        distance = [\n",
    "            minkowski_distance(sample, row.values.tolist(), p) for index, row in data.iterrows()\n",
    "        ]\n",
    "\n",
    "        distances.append(distance)\n",
    "\n",
    "    return distances\n",
    "\n",
    "\n",
    "\n",
    "\n",
    "matrix = matrix_of_distances(p)"
   ]
  },
  {
   "cell_type": "code",
   "execution_count": 10,
   "id": "d6ce3a7c",
   "metadata": {},
   "outputs": [
    {
     "name": "stdout",
     "output_type": "stream",
     "text": [
      "First center: 82\n",
      "Centers [82, 117, 41]\n"
     ]
    }
   ],
   "source": [
    "from operator import itemgetter\n",
    "\n",
    "def K_Means(distances):\n",
    "\n",
    "    # If we have more centers than elements, return the dataset itself\n",
    "    if K > n_samples:\n",
    "        return data\n",
    "    \n",
    "    # Starting with a random center \n",
    "    centroids = np.random.choice(n_samples, 1).tolist()\n",
    "    print('First center:', centroids[0])\n",
    "    \n",
    "    # Select s that maximize dist(s, C)\n",
    "    while len(centroids) < K:\n",
    "        candidates = []\n",
    "        for idx_row in range(n_samples):\n",
    "            s_is_centroid = [idx_row == centroid for centroid in centroids]\n",
    "            if not any(s_is_centroid):\n",
    "                most_distant_centroid = max(distances[idx_row][centroid] for centroid in centroids)\n",
    "                candidates.append({'distance': most_distant_centroid, 'index': idx_row})\n",
    "\n",
    "        if len(candidates) > 0:\n",
    "#             print('candidates', candidates)\n",
    "            max_item = max(candidates, key=itemgetter('distance'))\n",
    "#             print('max_item', max_item)\n",
    "            s = max_item['index']\n",
    "#             print('s', s)\n",
    "            centroids.append(s)\n",
    "        \n",
    "    return centroids\n",
    "\n",
    "C = K_Means(matrix)\n",
    "print('Centers', C)"
   ]
  },
  {
   "cell_type": "code",
   "execution_count": 11,
   "id": "30adbb36",
   "metadata": {},
   "outputs": [
    {
     "name": "stdout",
     "output_type": "stream",
     "text": [
      "Clusters [[50, 51, 52, 53, 54, 55, 56, 57, 58, 59, 60, 61, 62, 63, 64, 65, 66, 67, 68, 69, 70, 71, 72, 73, 74, 75, 76, 77, 78, 79, 80, 81, 82, 83, 84, 85, 86, 87, 88, 89, 90, 91, 92, 93, 94, 95, 96, 97, 98, 99, 101, 103, 106, 108, 110, 111, 113, 114, 116, 119, 121, 123, 126, 127, 128, 132, 133, 134, 137, 138, 142, 146, 147, 149], [100, 102, 104, 105, 107, 109, 112, 115, 117, 118, 120, 122, 124, 125, 129, 130, 131, 135, 136, 139, 140, 141, 143, 144, 145, 148], [0, 1, 2, 3, 4, 5, 6, 7, 8, 9, 10, 11, 12, 13, 14, 15, 16, 17, 18, 19, 20, 21, 22, 23, 24, 25, 26, 27, 28, 29, 30, 31, 32, 33, 34, 35, 36, 37, 38, 39, 40, 41, 42, 43, 44, 45, 46, 47, 48, 49]]\n"
     ]
    }
   ],
   "source": [
    "# Calcule clusters\n",
    "def calc_custers(centers, distances):\n",
    "    # Initialize clusters with empty array\n",
    "    clusters = [[] for _ in range(K)]\n",
    "    for idx_row in range(n_samples):\n",
    "        candidates = []\n",
    "        for idx, center in enumerate(centers):\n",
    "            candidates.append({'distance': distances[idx_row][center], 'center_index': idx})\n",
    "        closest_centroid = min(candidates, key=itemgetter('distance'))\n",
    "        clusters[closest_centroid['center_index']].append(idx_row)\n",
    "        \n",
    "    return clusters\n",
    "\n",
    "clusters = calc_custers(C, matrix)\n",
    "print('Clusters', clusters)"
   ]
  },
  {
   "cell_type": "code",
   "execution_count": 12,
   "id": "e3f0a974",
   "metadata": {},
   "outputs": [
    {
     "name": "stdout",
     "output_type": "stream",
     "text": [
      "3.6\n"
     ]
    }
   ],
   "source": [
    "# Calculate radius\n",
    "def calc_radius(clusters, distances):\n",
    "    candidates = []\n",
    "    for center_index, cluster in enumerate(clusters):\n",
    "#         print('center_index', C[center_index], [distances[C[center_index]][element] for element in cluster])\n",
    "        candidates.append(max(distances[C[center_index]][element] for element in cluster))\n",
    "#     print('candidates', candidates)\n",
    "    return max(candidates)\n",
    "    \n",
    "radius = calc_radius(clusters, matrix)\n",
    "print(radius)"
   ]
  },
  {
   "cell_type": "code",
   "execution_count": 8,
   "id": "156f5acf",
   "metadata": {},
   "outputs": [],
   "source": [
    "# Use sklearn do evaluate our solution\n",
    "from sklearn.cluster import KMeans\n",
    "kmeans = KMeans(n_clusters=K, random_state=0,).fit(data)"
   ]
  },
  {
   "cell_type": "code",
   "execution_count": 13,
   "id": "b9b4265f",
   "metadata": {},
   "outputs": [
    {
     "name": "stdout",
     "output_type": "stream",
     "text": [
      "[[5.9016129  2.7483871  4.39354839 1.43387097]\n",
      " [5.006      3.418      1.464      0.244     ]\n",
      " [6.85       3.07368421 5.74210526 2.07105263]]\n",
      "[1 1 1 1 1 1 1 1 1 1 1 1 1 1 1 1 1 1 1 1 1 1 1 1 1 1 1 1 1 1 1 1 1 1 1 1 1\n",
      " 1 1 1 1 1 1 1 1 1 1 1 1 1 0 0 2 0 0 0 0 0 0 0 0 0 0 0 0 0 0 0 0 0 0 0 0 0\n",
      " 0 0 0 2 0 0 0 0 0 0 0 0 0 0 0 0 0 0 0 0 0 0 0 0 0 0 2 0 2 2 2 2 0 2 2 2 2\n",
      " 2 2 0 0 2 2 2 2 0 2 0 2 0 2 2 0 0 2 2 2 2 2 0 2 2 2 2 0 2 2 2 0 2 2 2 0 2\n",
      " 2 0]\n",
      "options [1.89, 1.123, 1.377, 0.923, 0.494, 1.423, 2.877, 1.19, 1.277, 2.977, 0.513, 1.474, 0.69, 1.381, 1.19, 0.726, 0.877, 1.019, 1.377, 1.226, 0.777, 1.219, 0.79, 0.877, 0.99, 1.39, 0.423, 1.677, 1.677, 1.877, 0.877, 1.019, 0.926, 1.023, 1.523, 0.987, 0.981, 1.177, 0.79, 0.69, 0.877, 2.877, 0.677, 0.881, 0.681, 0.677, 2.777, 0.681, 1.323, 1.623, 1.623, 1.826, 1.319, 1.426, 1.319, 1.123, 1.323, 1.223, 1.123, 1.323, 1.719, 1.326]\n",
      "options [0.284, 0.632, 0.732, 0.804, 0.296, 1.268, 0.544, 0.104, 1.232, 0.604, 0.756, 0.404, 0.832, 1.632, 1.684, 1.868, 1.196, 0.296, 1.368, 0.568, 0.692, 0.568, 1.096, 0.704, 0.704, 0.604, 0.316, 0.356, 0.32, 0.704, 0.704, 0.604, 1.056, 1.384, 0.604, 0.532, 0.784, 0.604, 1.232, 0.192, 0.308, 1.844, 1.032, 0.58, 1.068, 0.744, 0.656, 0.732, 0.656, 0.232]\n",
      "options [1.489, 1.337, 1.463, 0.511, 1.137, 0.611, 1.711, 1.453, 1.053, 1.663, 1.189, 1.437, 0.395, 1.247, 0.937, 2.663, 2.711, 0.447, 2.153, 0.447, 1.005, 0.895, 0.953, 1.353, 2.505, 0.995, 2.037, 1.511, 1.347, 0.989, 0.447, 0.647, 0.947, 0.563, 0.847, 0.995, 1.037, 1.547]\n",
      "candidates [2.977, 1.868, 2.711]\n",
      "p value 1\n",
      "Optimal radius 2.977\n"
     ]
    }
   ],
   "source": [
    "print(kmeans.cluster_centers_)\n",
    "print(kmeans.labels_)\n",
    "\n",
    "def calc_sklearn_radius():\n",
    "    candidates = []\n",
    "    for center_idx, center in enumerate(kmeans.cluster_centers_):\n",
    "        options = []\n",
    "        for idx, cluster in enumerate(kmeans.labels_):\n",
    "            if center_idx == cluster:\n",
    "                options.append(minkowski_distance(center, data.iloc[idx].values.tolist(), p))\n",
    "        print('options', options)\n",
    "        candidates.append(max(options))\n",
    "        \n",
    "    print('candidates', candidates)\n",
    "    return max(candidates)\n",
    "\n",
    "sklearn_radius = calc_sklearn_radius()\n",
    "print('p value', p)\n",
    "print('Optimal radius', sklearn_radius)\n"
   ]
  }
 ],
 "metadata": {
  "kernelspec": {
   "display_name": "Python 3 (ipykernel)",
   "language": "python",
   "name": "python3"
  },
  "language_info": {
   "codemirror_mode": {
    "name": "ipython",
    "version": 3
   },
   "file_extension": ".py",
   "mimetype": "text/x-python",
   "name": "python",
   "nbconvert_exporter": "python",
   "pygments_lexer": "ipython3",
   "version": "3.9.12"
  }
 },
 "nbformat": 4,
 "nbformat_minor": 5
}
